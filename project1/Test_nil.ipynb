{
 "cells": [
  {
   "cell_type": "code",
   "execution_count": 85,
   "metadata": {},
   "outputs": [],
   "source": [
    "import cv2 as cv\n",
    "import numpy as np\n",
    "import matplotlib.pyplot as plt\n",
    "import random\n",
    "import os\n",
    "\n",
    "# YOU NEED TO GO TO THE paths.py FILE AND PUT YOUR FOLDER OF IMAGES in the CAR_IMAGES_DIR variable\n",
    "from paths import CAR_IMAGES_DIR  \n",
    "\n",
    "\n",
    "INDIVIDUAL_IMG_PATHS = [CAR_IMAGES_DIR / image_name for image_name \n",
    "                        in os.listdir(CAR_IMAGES_DIR)]"
   ]
  },
  {
   "cell_type": "markdown",
   "metadata": {},
   "source": [
    "## Utils functions for plotting"
   ]
  },
  {
   "cell_type": "code",
   "execution_count": null,
   "metadata": {},
   "outputs": [],
   "source": [
    "#FUNCTIONS FOR PLOTTING VARIOS RESULTS\n",
    "def plot_binary_methods():\n",
    "    plt.figure(figsize=(15, 10))   # (width, height)\n",
    "    methods = ['original', 'simple', 'adaptive', 'otsu', 'Gaus_otsu']\n",
    "    \n",
    "    for i in range(len(methods) * 3):\n",
    "        pos = i % len(methods)\n",
    "        if (pos == 0):\n",
    "            image_path = random.choice(INDIVIDUAL_IMG_PATHS)\n",
    "            \n",
    "        image = binary_methods(image_path, method=methods[pos])\n",
    "        plt.subplot(3, len(methods), i+1)\n",
    "        plt.imshow(image, 'gray')\n",
    "        plt.title(methods[pos])\n",
    "        plt.xticks([]),plt.yticks([])\n",
    "    \n",
    "    plt.show()\n",
    "\n",
    "def plot_mhorp_methods():\n",
    "    plt.figure(figsize=(15, 10))   # (width, height)\n",
    "    methods = ['original', 'dilation', 'erosion', 'opening', 'closing']\n",
    "    \n",
    "    for i in range(len(methods) * 3):\n",
    "        pos = i % len(methods)\n",
    "        if (pos == 0):\n",
    "            image_path = random.choice(INDIVIDUAL_IMG_PATHS)\n",
    "        \n",
    "        binary_image = binary_methods(image_path, method = 'simple')\n",
    "        output = mhorp_operations(binary_image, method = methods[pos], image_path=image_path)\n",
    "        plt.subplot(3, len(methods), i+1)\n",
    "        plt.imshow(output, 'gray')\n",
    "        plt.title(methods[pos])\n",
    "        plt.xticks([]),plt.yticks([])\n",
    "    \n",
    "    plt.show()"
   ]
  },
  {
   "cell_type": "markdown",
   "metadata": {},
   "source": [
    "## Preprocessing of the images"
   ]
  },
  {
   "cell_type": "code",
   "execution_count": 96,
   "metadata": {},
   "outputs": [],
   "source": [
    "#Function for appyling the binarization methods\n",
    "def binary_methods(image_gray, method = 'simple'):\n",
    "    #if method == 'original':\n",
    "    #return image_rgb\n",
    "    if method == 'simple':\n",
    "        binary__image = cv.threshold(image_gray, 127, 255, 0)[1]\n",
    "\n",
    "    elif method == 'adaptive':\n",
    "        binary__image = cv.adaptiveThreshold(image_gray, 255, cv.ADAPTIVE_THRESH_GAUSSIAN_C, cv.THRESH_BINARY, 11, 2)\n",
    "\n",
    "    elif method == 'otsu':\n",
    "        _, binary__image = cv.threshold(image_gray, 0, 255, cv.THRESH_BINARY+cv.THRESH_OTSU)\n",
    "\n",
    "    return binary__image\n",
    "\n",
    "#Function for applying the mhorpological operations\n",
    "def mhorp_operations(binary_image, method = 'dilation', image_path = None):\n",
    "    kernel = np.ones((2,7),np.uint8)\n",
    "    \n",
    "    if method == 'original':\n",
    "        image = cv.imread(str(image_path))\n",
    "        image_rgb = cv.cvtColor(image, cv.COLOR_BGR2RGB)\n",
    "        return image_rgb\n",
    "    \n",
    "    if method == 'dilation':\n",
    "        result = cv.dilate(binary_image, kernel, iterations = 1)\n",
    "\n",
    "    elif method == 'erosion':\n",
    "        result = cv.erode(binary_image, kernel, iterations = 1)\n",
    "\n",
    "    elif method == 'opening':\n",
    "        result = cv.morphologyEx(binary_image, cv.MORPH_OPEN, kernel)\n",
    "\n",
    "    elif method == 'closing':\n",
    "        result = cv.morphologyEx(binary_image, cv.MORPH_CLOSE, kernel)\n",
    "        result = cv.morphologyEx(result, cv.MORPH_CLOSE, kernel)\n",
    "\n",
    "    return result\n",
    "\n",
    "# FUNCTION USED TO PREPROCESS A GIVEN IMAGE\n",
    "def preprocess_image(image_path):\n",
    "    #Open the image, and pass it from BGR to RGB\n",
    "    image = cv.imread(image_path)\n",
    "    image_rgb = cv.cvtColor(image, cv.COLOR_BGR2RGB)\n",
    "    #Pass the image to gray scale. Apply also gaussian blur to reduce noise in the image\n",
    "    image_gray = cv.cvtColor(image_rgb, cv.COLOR_RGB2GRAY)\n",
    "    image_gray = cv.GaussianBlur(image_gray, (5, 5), 0)\n",
    "\n",
    "    #Binarization doing one of the possible methods\n",
    "    binary_image = binary_methods(image_gray, method='otsu')\n",
    "\n",
    "    #Apply Mhorpological operations to the image using one of the possbile methods\n",
    "    mhorp_image = mhorp_operations(binary_image, method = 'closing') \n",
    "\n",
    "    return mhorp_image  "
   ]
  },
  {
   "cell_type": "code",
   "execution_count": null,
   "metadata": {},
   "outputs": [],
   "source": [
    "out_image = preprocess_image(str(INDIVIDUAL_IMG_PATHS[12]))\n",
    "plt.imshow(out_image, cmap='gray')"
   ]
  },
  {
   "cell_type": "markdown",
   "metadata": {},
   "source": [
    "## Rectangle detection"
   ]
  },
  {
   "cell_type": "markdown",
   "metadata": {},
   "source": [
    "### Method_1: Contour Approximation"
   ]
  },
  {
   "cell_type": "code",
   "execution_count": 65,
   "metadata": {},
   "outputs": [],
   "source": [
    "import cv2\n",
    "class ShapeDetector:\n",
    "\tdef __init__(self):\n",
    "\t\tpass\n",
    "\tdef detect(self, c):\n",
    "\t\t# initialize the shape name and approximate the contour\n",
    "\t\tshape = \"unidentified\"\n",
    "\t\tperi = cv2.arcLength(c, True)\n",
    "\t\tapprox = cv2.approxPolyDP(c, 0.04 * peri, True)\n",
    "\n",
    "        # if the shape is a triangle, it will have 3 vertices\n",
    "\t\tif len(approx) == 3:\n",
    "\t\t\tshape = \"triangle\"\n",
    "\t\t# if the shape has 4 vertices, it is either a square or\n",
    "\t\t# a rectangle\n",
    "\t\telif len(approx) == 4:\n",
    "\t\t\t# compute the bounding box of the contour and use the\n",
    "\t\t\t# bounding box to compute the aspect ratio\n",
    "\t\t\t(x, y, w, h) = cv2.boundingRect(approx)\n",
    "\t\t\tar = w / float(h)\n",
    "\t\t\t# a square will have an aspect ratio that is approximately\n",
    "\t\t\t# equal to one, otherwise, the shape is a rectangle\n",
    "\t\t\tshape = \"square\" if ar >= 0.95 and ar <= 1.05 else \"rectangle\"\n",
    "\t\t# if the shape is a pentagon, it will have 5 vertices\n",
    "\t\telif len(approx) == 5:\n",
    "\t\t\tshape = \"pentagon\"\n",
    "\t\t# otherwise, we assume the shape is a circle\n",
    "\t\telse:\n",
    "\t\t\tshape = \"circle\"\n",
    "\t\t# return the name of the shape\n",
    "\t\treturn shape"
   ]
  },
  {
   "cell_type": "markdown",
   "metadata": {},
   "source": [
    "### Method_2: Canny detector"
   ]
  }
 ],
 "metadata": {
  "kernelspec": {
   "display_name": "base",
   "language": "python",
   "name": "python3"
  },
  "language_info": {
   "codemirror_mode": {
    "name": "ipython",
    "version": 3
   },
   "file_extension": ".py",
   "mimetype": "text/x-python",
   "name": "python",
   "nbconvert_exporter": "python",
   "pygments_lexer": "ipython3",
   "version": "3.9.13"
  },
  "orig_nbformat": 4
 },
 "nbformat": 4,
 "nbformat_minor": 2
}
