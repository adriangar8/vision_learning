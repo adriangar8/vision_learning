{
 "cells": [
  {
   "cell_type": "code",
   "execution_count": 61,
   "metadata": {},
   "outputs": [],
   "source": [
    "from paths import DATASET_IMG\n",
    "import os\n",
    "import cv2\n",
    "import xml.etree.ElementTree as ET\n",
    "import matplotlib.pyplot as plt\n",
    "from sklearn import svm\n",
    "from sklearn.model_selection import train_test_split"
   ]
  },
  {
   "cell_type": "code",
   "execution_count": 41,
   "metadata": {},
   "outputs": [],
   "source": [
    "xml_files, png_files = [], []\n",
    "for file in os.listdir(DATASET_IMG):\n",
    "    xml_files.append(str(DATASET_IMG / file)) if file.endswith('.xml') else png_files.append(str(DATASET_IMG / file))"
   ]
  },
  {
   "cell_type": "code",
   "execution_count": 40,
   "metadata": {},
   "outputs": [
    {
     "data": {
      "text/plain": [
       "<matplotlib.image.AxesImage at 0x1fe0a5bfc40>"
      ]
     },
     "execution_count": 40,
     "metadata": {},
     "output_type": "execute_result"
    },
    {
     "data": {
      "image/png": "[encoded data removed]",
      "text/plain": [
       "<Figure size 640x480 with 1 Axes>"
      ]
     },
     "metadata": {},
     "output_type": "display_data"
    }
   ],
   "source": [
    "img = cv2.cvtColor(cv2.imread(str(png_files[44])), cv2.COLOR_BGR2RGB)\n",
    "tree = ET.parse(xml_files[44])\n",
    "root = tree.getroot()\n",
    "\n",
    "# Extract bounding box\n",
    "bndbox = root.find('.//bndbox')\n",
    "xmin = int(bndbox.find('xmin').text)\n",
    "ymin = int(bndbox.find('ymin').text)\n",
    "xmax = int(bndbox.find('xmax').text)\n",
    "ymax = int(bndbox.find('ymax').text)\n",
    "\n",
    "licensplate = img[ymin:ymax, xmin:xmax]\n",
    "plt.imshow(licensplate)"
   ]
  },
  {
   "cell_type": "code",
   "execution_count": 45,
   "metadata": {},
   "outputs": [],
   "source": [
    "samples = []\n",
    "for image_path, xml_path in zip(png_files, xml_files):\n",
    "    img = cv2.cvtColor(cv2.imread(image_path), cv2.COLOR_BGR2RGB)\n",
    "    # Load XML from file\n",
    "    tree = ET.parse(xml_path)\n",
    "    root = tree.getroot()\n",
    "    \n",
    "    # Extract bounding box\n",
    "    bndbox = root.find('.//bndbox')\n",
    "    xmin = int(bndbox.find('xmin').text)\n",
    "    ymin = int(bndbox.find('ymin').text)\n",
    "    xmax = int(bndbox.find('xmax').text)\n",
    "    ymax = int(bndbox.find('ymax').text)\n",
    "    licenseplate = img[ymin:ymax, xmin:xmax]\n",
    "    samples.append(licenseplate)\n",
    "\n",
    "\n"
   ]
  },
  {
   "cell_type": "code",
   "execution_count": null,
   "metadata": {},
   "outputs": [],
   "source": [
    "train_test_split()"
   ]
  },
  {
   "cell_type": "code",
   "execution_count": null,
   "metadata": {},
   "outputs": [],
   "source": [
    "_, fig = plt.subplots(5, 5, figsize=(10, 10))\n",
    "num = 0\n",
    "for i in range(5):\n",
    "    for j in range(5):\n",
    "        fig[i, j].imshow(samples[num])\n",
    "        num += 1\n"
   ]
  },
  {
   "cell_type": "code",
   "execution_count": null,
   "metadata": {},
   "outputs": [],
   "source": []
  }
 ],
 "metadata": {
  "kernelspec": {
   "display_name": "base",
   "language": "python",
   "name": "python3"
  },
  "language_info": {
   "codemirror_mode": {
    "name": "ipython",
    "version": 3
   },
   "file_extension": ".py",
   "mimetype": "text/x-python",
   "name": "python",
   "nbconvert_exporter": "python",
   "pygments_lexer": "ipython3",
   "version": "3.9.13"
  },
  "orig_nbformat": 4
 },
 "nbformat": 4,
 "nbformat_minor": 2
}
